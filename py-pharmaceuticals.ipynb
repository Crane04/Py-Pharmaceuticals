{
 "cells": [
  {
   "cell_type": "code",
   "execution_count": 1,
   "id": "cda8e7f3",
   "metadata": {},
   "outputs": [],
   "source": [
    "import pandas as pd\n",
    "import matplotlib.pyplot as pt\n",
    "import numpy as np"
   ]
  },
  {
   "cell_type": "code",
   "execution_count": 2,
   "id": "d8546dc3",
   "metadata": {},
   "outputs": [],
   "source": [
    "mouse_metadata = pd.read_csv(\"Mouse_metadata.txt\")\n",
    "study_results = pd.read_csv(\"Study_results.txt\")"
   ]
  },
  {
   "cell_type": "code",
   "execution_count": 3,
   "id": "65b00b6e",
   "metadata": {},
   "outputs": [
    {
     "data": {
      "text/html": [
       "<div>\n",
       "<style scoped>\n",
       "    .dataframe tbody tr th:only-of-type {\n",
       "        vertical-align: middle;\n",
       "    }\n",
       "\n",
       "    .dataframe tbody tr th {\n",
       "        vertical-align: top;\n",
       "    }\n",
       "\n",
       "    .dataframe thead th {\n",
       "        text-align: right;\n",
       "    }\n",
       "</style>\n",
       "<table border=\"1\" class=\"dataframe\">\n",
       "  <thead>\n",
       "    <tr style=\"text-align: right;\">\n",
       "      <th></th>\n",
       "      <th>Mouse ID</th>\n",
       "      <th>Drug Regimen</th>\n",
       "      <th>Sex</th>\n",
       "      <th>Age_months</th>\n",
       "      <th>Weight (g)</th>\n",
       "    </tr>\n",
       "  </thead>\n",
       "  <tbody>\n",
       "    <tr>\n",
       "      <th>0</th>\n",
       "      <td>k403</td>\n",
       "      <td>Ramicane</td>\n",
       "      <td>Male</td>\n",
       "      <td>21</td>\n",
       "      <td>16</td>\n",
       "    </tr>\n",
       "    <tr>\n",
       "      <th>1</th>\n",
       "      <td>s185</td>\n",
       "      <td>Capomulin</td>\n",
       "      <td>Female</td>\n",
       "      <td>3</td>\n",
       "      <td>17</td>\n",
       "    </tr>\n",
       "    <tr>\n",
       "      <th>2</th>\n",
       "      <td>x401</td>\n",
       "      <td>Capomulin</td>\n",
       "      <td>Female</td>\n",
       "      <td>16</td>\n",
       "      <td>15</td>\n",
       "    </tr>\n",
       "    <tr>\n",
       "      <th>3</th>\n",
       "      <td>m601</td>\n",
       "      <td>Capomulin</td>\n",
       "      <td>Male</td>\n",
       "      <td>22</td>\n",
       "      <td>17</td>\n",
       "    </tr>\n",
       "    <tr>\n",
       "      <th>4</th>\n",
       "      <td>g791</td>\n",
       "      <td>Ramicane</td>\n",
       "      <td>Male</td>\n",
       "      <td>11</td>\n",
       "      <td>16</td>\n",
       "    </tr>\n",
       "  </tbody>\n",
       "</table>\n",
       "</div>"
      ],
      "text/plain": [
       "  Mouse ID Drug Regimen     Sex  Age_months  Weight (g)\n",
       "0     k403     Ramicane    Male          21          16\n",
       "1     s185    Capomulin  Female           3          17\n",
       "2     x401    Capomulin  Female          16          15\n",
       "3     m601    Capomulin    Male          22          17\n",
       "4     g791     Ramicane    Male          11          16"
      ]
     },
     "execution_count": 3,
     "metadata": {},
     "output_type": "execute_result"
    }
   ],
   "source": [
    "mouse_metadata.head()"
   ]
  },
  {
   "cell_type": "code",
   "execution_count": 4,
   "id": "8c8a60ca",
   "metadata": {},
   "outputs": [
    {
     "data": {
      "text/html": [
       "<div>\n",
       "<style scoped>\n",
       "    .dataframe tbody tr th:only-of-type {\n",
       "        vertical-align: middle;\n",
       "    }\n",
       "\n",
       "    .dataframe tbody tr th {\n",
       "        vertical-align: top;\n",
       "    }\n",
       "\n",
       "    .dataframe thead th {\n",
       "        text-align: right;\n",
       "    }\n",
       "</style>\n",
       "<table border=\"1\" class=\"dataframe\">\n",
       "  <thead>\n",
       "    <tr style=\"text-align: right;\">\n",
       "      <th></th>\n",
       "      <th>Mouse ID</th>\n",
       "      <th>Timepoint</th>\n",
       "      <th>Tumor Volume (mm3)</th>\n",
       "      <th>Metastatic Sites</th>\n",
       "    </tr>\n",
       "  </thead>\n",
       "  <tbody>\n",
       "    <tr>\n",
       "      <th>0</th>\n",
       "      <td>b128</td>\n",
       "      <td>0</td>\n",
       "      <td>45.0</td>\n",
       "      <td>0</td>\n",
       "    </tr>\n",
       "    <tr>\n",
       "      <th>1</th>\n",
       "      <td>f932</td>\n",
       "      <td>0</td>\n",
       "      <td>45.0</td>\n",
       "      <td>0</td>\n",
       "    </tr>\n",
       "    <tr>\n",
       "      <th>2</th>\n",
       "      <td>g107</td>\n",
       "      <td>0</td>\n",
       "      <td>45.0</td>\n",
       "      <td>0</td>\n",
       "    </tr>\n",
       "    <tr>\n",
       "      <th>3</th>\n",
       "      <td>a457</td>\n",
       "      <td>0</td>\n",
       "      <td>45.0</td>\n",
       "      <td>0</td>\n",
       "    </tr>\n",
       "    <tr>\n",
       "      <th>4</th>\n",
       "      <td>c819</td>\n",
       "      <td>0</td>\n",
       "      <td>45.0</td>\n",
       "      <td>0</td>\n",
       "    </tr>\n",
       "  </tbody>\n",
       "</table>\n",
       "</div>"
      ],
      "text/plain": [
       "  Mouse ID  Timepoint  Tumor Volume (mm3)  Metastatic Sites\n",
       "0     b128          0                45.0                 0\n",
       "1     f932          0                45.0                 0\n",
       "2     g107          0                45.0                 0\n",
       "3     a457          0                45.0                 0\n",
       "4     c819          0                45.0                 0"
      ]
     },
     "execution_count": 4,
     "metadata": {},
     "output_type": "execute_result"
    }
   ],
   "source": [
    "study_results.head()"
   ]
  },
  {
   "cell_type": "markdown",
   "id": "f0c6e28c",
   "metadata": {},
   "source": [
    "<h2>Merge the two data.</h2>"
   ]
  },
  {
   "cell_type": "code",
   "execution_count": 5,
   "id": "a0b9e76e",
   "metadata": {},
   "outputs": [
    {
     "data": {
      "text/html": [
       "<div>\n",
       "<style scoped>\n",
       "    .dataframe tbody tr th:only-of-type {\n",
       "        vertical-align: middle;\n",
       "    }\n",
       "\n",
       "    .dataframe tbody tr th {\n",
       "        vertical-align: top;\n",
       "    }\n",
       "\n",
       "    .dataframe thead th {\n",
       "        text-align: right;\n",
       "    }\n",
       "</style>\n",
       "<table border=\"1\" class=\"dataframe\">\n",
       "  <thead>\n",
       "    <tr style=\"text-align: right;\">\n",
       "      <th></th>\n",
       "      <th>Mouse ID</th>\n",
       "      <th>Drug Regimen</th>\n",
       "      <th>Sex</th>\n",
       "      <th>Age_months</th>\n",
       "      <th>Weight (g)</th>\n",
       "      <th>Timepoint</th>\n",
       "      <th>Tumor Volume (mm3)</th>\n",
       "      <th>Metastatic Sites</th>\n",
       "    </tr>\n",
       "  </thead>\n",
       "  <tbody>\n",
       "    <tr>\n",
       "      <th>0</th>\n",
       "      <td>k403</td>\n",
       "      <td>Ramicane</td>\n",
       "      <td>Male</td>\n",
       "      <td>21</td>\n",
       "      <td>16</td>\n",
       "      <td>0</td>\n",
       "      <td>45.000000</td>\n",
       "      <td>0</td>\n",
       "    </tr>\n",
       "    <tr>\n",
       "      <th>1</th>\n",
       "      <td>k403</td>\n",
       "      <td>Ramicane</td>\n",
       "      <td>Male</td>\n",
       "      <td>21</td>\n",
       "      <td>16</td>\n",
       "      <td>5</td>\n",
       "      <td>38.825898</td>\n",
       "      <td>0</td>\n",
       "    </tr>\n",
       "    <tr>\n",
       "      <th>2</th>\n",
       "      <td>k403</td>\n",
       "      <td>Ramicane</td>\n",
       "      <td>Male</td>\n",
       "      <td>21</td>\n",
       "      <td>16</td>\n",
       "      <td>10</td>\n",
       "      <td>35.014271</td>\n",
       "      <td>1</td>\n",
       "    </tr>\n",
       "    <tr>\n",
       "      <th>3</th>\n",
       "      <td>k403</td>\n",
       "      <td>Ramicane</td>\n",
       "      <td>Male</td>\n",
       "      <td>21</td>\n",
       "      <td>16</td>\n",
       "      <td>15</td>\n",
       "      <td>34.223992</td>\n",
       "      <td>1</td>\n",
       "    </tr>\n",
       "    <tr>\n",
       "      <th>4</th>\n",
       "      <td>k403</td>\n",
       "      <td>Ramicane</td>\n",
       "      <td>Male</td>\n",
       "      <td>21</td>\n",
       "      <td>16</td>\n",
       "      <td>20</td>\n",
       "      <td>32.997729</td>\n",
       "      <td>1</td>\n",
       "    </tr>\n",
       "    <tr>\n",
       "      <th>...</th>\n",
       "      <td>...</td>\n",
       "      <td>...</td>\n",
       "      <td>...</td>\n",
       "      <td>...</td>\n",
       "      <td>...</td>\n",
       "      <td>...</td>\n",
       "      <td>...</td>\n",
       "      <td>...</td>\n",
       "    </tr>\n",
       "    <tr>\n",
       "      <th>1888</th>\n",
       "      <td>z969</td>\n",
       "      <td>Naftisol</td>\n",
       "      <td>Male</td>\n",
       "      <td>9</td>\n",
       "      <td>30</td>\n",
       "      <td>25</td>\n",
       "      <td>63.145652</td>\n",
       "      <td>2</td>\n",
       "    </tr>\n",
       "    <tr>\n",
       "      <th>1889</th>\n",
       "      <td>z969</td>\n",
       "      <td>Naftisol</td>\n",
       "      <td>Male</td>\n",
       "      <td>9</td>\n",
       "      <td>30</td>\n",
       "      <td>30</td>\n",
       "      <td>65.841013</td>\n",
       "      <td>3</td>\n",
       "    </tr>\n",
       "    <tr>\n",
       "      <th>1890</th>\n",
       "      <td>z969</td>\n",
       "      <td>Naftisol</td>\n",
       "      <td>Male</td>\n",
       "      <td>9</td>\n",
       "      <td>30</td>\n",
       "      <td>35</td>\n",
       "      <td>69.176246</td>\n",
       "      <td>4</td>\n",
       "    </tr>\n",
       "    <tr>\n",
       "      <th>1891</th>\n",
       "      <td>z969</td>\n",
       "      <td>Naftisol</td>\n",
       "      <td>Male</td>\n",
       "      <td>9</td>\n",
       "      <td>30</td>\n",
       "      <td>40</td>\n",
       "      <td>70.314904</td>\n",
       "      <td>4</td>\n",
       "    </tr>\n",
       "    <tr>\n",
       "      <th>1892</th>\n",
       "      <td>z969</td>\n",
       "      <td>Naftisol</td>\n",
       "      <td>Male</td>\n",
       "      <td>9</td>\n",
       "      <td>30</td>\n",
       "      <td>45</td>\n",
       "      <td>73.867845</td>\n",
       "      <td>4</td>\n",
       "    </tr>\n",
       "  </tbody>\n",
       "</table>\n",
       "<p>1893 rows × 8 columns</p>\n",
       "</div>"
      ],
      "text/plain": [
       "     Mouse ID Drug Regimen   Sex  Age_months  Weight (g)  Timepoint  \\\n",
       "0        k403     Ramicane  Male          21          16          0   \n",
       "1        k403     Ramicane  Male          21          16          5   \n",
       "2        k403     Ramicane  Male          21          16         10   \n",
       "3        k403     Ramicane  Male          21          16         15   \n",
       "4        k403     Ramicane  Male          21          16         20   \n",
       "...       ...          ...   ...         ...         ...        ...   \n",
       "1888     z969     Naftisol  Male           9          30         25   \n",
       "1889     z969     Naftisol  Male           9          30         30   \n",
       "1890     z969     Naftisol  Male           9          30         35   \n",
       "1891     z969     Naftisol  Male           9          30         40   \n",
       "1892     z969     Naftisol  Male           9          30         45   \n",
       "\n",
       "      Tumor Volume (mm3)  Metastatic Sites  \n",
       "0              45.000000                 0  \n",
       "1              38.825898                 0  \n",
       "2              35.014271                 1  \n",
       "3              34.223992                 1  \n",
       "4              32.997729                 1  \n",
       "...                  ...               ...  \n",
       "1888           63.145652                 2  \n",
       "1889           65.841013                 3  \n",
       "1890           69.176246                 4  \n",
       "1891           70.314904                 4  \n",
       "1892           73.867845                 4  \n",
       "\n",
       "[1893 rows x 8 columns]"
      ]
     },
     "execution_count": 5,
     "metadata": {},
     "output_type": "execute_result"
    }
   ],
   "source": [
    "combined_data = pd.merge(mouse_metadata,study_results, how=\"outer\", on=\"Mouse ID\")\n",
    "combined_data"
   ]
  },
  {
   "cell_type": "markdown",
   "id": "f6c6b6bc",
   "metadata": {},
   "source": [
    "<h2> Cleaning the new data by Removing Duplicates </h2>"
   ]
  },
  {
   "cell_type": "code",
   "execution_count": 6,
   "id": "543fe247",
   "metadata": {},
   "outputs": [
    {
     "data": {
      "text/plain": [
       "array(['g989'], dtype=object)"
      ]
     },
     "execution_count": 6,
     "metadata": {},
     "output_type": "execute_result"
    }
   ],
   "source": [
    "# Getting the duplicate mice by ID number that shows up for Mouse ID and Timepoint.\n",
    "dup_mice_ID = combined_data.loc[combined_data.duplicated(subset=['Mouse ID', 'Timepoint']),'Mouse ID'].unique()\n",
    "dup_mice_ID"
   ]
  },
  {
   "cell_type": "code",
   "execution_count": 7,
   "id": "c1a48fbb",
   "metadata": {},
   "outputs": [],
   "source": [
    "# Create a clean DataFrame by dropping the duplicate mouse by its ID.\n",
    "filtered_data = combined_data[combined_data['Mouse ID'].isin(dup_mice_ID)==False]\n",
    "df = filtered_data"
   ]
  },
  {
   "cell_type": "markdown",
   "id": "293ef27c",
   "metadata": {},
   "source": [
    "## Generate a summary statistics table consisting of the mean, median, variance, standard deviation, and SEM of the tumor volume for each drug regimen"
   ]
  },
  {
   "cell_type": "code",
   "execution_count": 8,
   "id": "afb8d9b3",
   "metadata": {},
   "outputs": [],
   "source": [
    "Mean = df.groupby([\"Drug Regimen\"]).mean()[\"Tumor Volume (mm3)\"]\n",
    "Median = df.groupby([\"Drug Regimen\"]).median()[\"Tumor Volume (mm3)\"]\n",
    "Variance = df.groupby([\"Drug Regimen\"]).var()[\"Tumor Volume (mm3)\"]\n",
    "std = df.groupby([\"Drug Regimen\"]).std()[\"Tumor Volume (mm3)\"]\n",
    "sem = df.groupby([\"Drug Regimen\"]).sem()[\"Tumor Volume (mm3)\"]"
   ]
  },
  {
   "cell_type": "code",
   "execution_count": 9,
   "id": "e0a9d778",
   "metadata": {},
   "outputs": [
    {
     "data": {
      "text/html": [
       "<style type=\"text/css\">\n",
       "</style>\n",
       "<table id=\"T_9b730\">\n",
       "  <caption>Summary statistics table of the tumor volume for each drug regimen.</caption>\n",
       "  <thead>\n",
       "    <tr>\n",
       "      <th class=\"blank level0\" >&nbsp;</th>\n",
       "      <th id=\"T_9b730_level0_col0\" class=\"col_heading level0 col0\" >Mean</th>\n",
       "      <th id=\"T_9b730_level0_col1\" class=\"col_heading level0 col1\" >Median</th>\n",
       "      <th id=\"T_9b730_level0_col2\" class=\"col_heading level0 col2\" >Variance</th>\n",
       "      <th id=\"T_9b730_level0_col3\" class=\"col_heading level0 col3\" >STD</th>\n",
       "      <th id=\"T_9b730_level0_col4\" class=\"col_heading level0 col4\" >SEM</th>\n",
       "    </tr>\n",
       "    <tr>\n",
       "      <th class=\"index_name level0\" >Drug Regimen</th>\n",
       "      <th class=\"blank col0\" >&nbsp;</th>\n",
       "      <th class=\"blank col1\" >&nbsp;</th>\n",
       "      <th class=\"blank col2\" >&nbsp;</th>\n",
       "      <th class=\"blank col3\" >&nbsp;</th>\n",
       "      <th class=\"blank col4\" >&nbsp;</th>\n",
       "    </tr>\n",
       "  </thead>\n",
       "  <tbody>\n",
       "    <tr>\n",
       "      <th id=\"T_9b730_level0_row0\" class=\"row_heading level0 row0\" >Capomulin</th>\n",
       "      <td id=\"T_9b730_row0_col0\" class=\"data row0 col0\" >40.675741</td>\n",
       "      <td id=\"T_9b730_row0_col1\" class=\"data row0 col1\" >41.557809</td>\n",
       "      <td id=\"T_9b730_row0_col2\" class=\"data row0 col2\" >24.947764</td>\n",
       "      <td id=\"T_9b730_row0_col3\" class=\"data row0 col3\" >4.994774</td>\n",
       "      <td id=\"T_9b730_row0_col4\" class=\"data row0 col4\" >0.329346</td>\n",
       "    </tr>\n",
       "    <tr>\n",
       "      <th id=\"T_9b730_level0_row1\" class=\"row_heading level0 row1\" >Ceftamin</th>\n",
       "      <td id=\"T_9b730_row1_col0\" class=\"data row1 col0\" >52.591172</td>\n",
       "      <td id=\"T_9b730_row1_col1\" class=\"data row1 col1\" >51.776157</td>\n",
       "      <td id=\"T_9b730_row1_col2\" class=\"data row1 col2\" >39.290177</td>\n",
       "      <td id=\"T_9b730_row1_col3\" class=\"data row1 col3\" >6.268188</td>\n",
       "      <td id=\"T_9b730_row1_col4\" class=\"data row1 col4\" >0.469821</td>\n",
       "    </tr>\n",
       "    <tr>\n",
       "      <th id=\"T_9b730_level0_row2\" class=\"row_heading level0 row2\" >Infubinol</th>\n",
       "      <td id=\"T_9b730_row2_col0\" class=\"data row2 col0\" >52.884795</td>\n",
       "      <td id=\"T_9b730_row2_col1\" class=\"data row2 col1\" >51.820584</td>\n",
       "      <td id=\"T_9b730_row2_col2\" class=\"data row2 col2\" >43.128684</td>\n",
       "      <td id=\"T_9b730_row2_col3\" class=\"data row2 col3\" >6.567243</td>\n",
       "      <td id=\"T_9b730_row2_col4\" class=\"data row2 col4\" >0.492236</td>\n",
       "    </tr>\n",
       "    <tr>\n",
       "      <th id=\"T_9b730_level0_row3\" class=\"row_heading level0 row3\" >Ketapril</th>\n",
       "      <td id=\"T_9b730_row3_col0\" class=\"data row3 col0\" >55.235638</td>\n",
       "      <td id=\"T_9b730_row3_col1\" class=\"data row3 col1\" >53.698743</td>\n",
       "      <td id=\"T_9b730_row3_col2\" class=\"data row3 col2\" >68.553577</td>\n",
       "      <td id=\"T_9b730_row3_col3\" class=\"data row3 col3\" >8.279709</td>\n",
       "      <td id=\"T_9b730_row3_col4\" class=\"data row3 col4\" >0.603860</td>\n",
       "    </tr>\n",
       "    <tr>\n",
       "      <th id=\"T_9b730_level0_row4\" class=\"row_heading level0 row4\" >Naftisol</th>\n",
       "      <td id=\"T_9b730_row4_col0\" class=\"data row4 col0\" >54.331565</td>\n",
       "      <td id=\"T_9b730_row4_col1\" class=\"data row4 col1\" >52.509285</td>\n",
       "      <td id=\"T_9b730_row4_col2\" class=\"data row4 col2\" >66.173479</td>\n",
       "      <td id=\"T_9b730_row4_col3\" class=\"data row4 col3\" >8.134708</td>\n",
       "      <td id=\"T_9b730_row4_col4\" class=\"data row4 col4\" >0.596466</td>\n",
       "    </tr>\n",
       "    <tr>\n",
       "      <th id=\"T_9b730_level0_row5\" class=\"row_heading level0 row5\" >Placebo</th>\n",
       "      <td id=\"T_9b730_row5_col0\" class=\"data row5 col0\" >54.033581</td>\n",
       "      <td id=\"T_9b730_row5_col1\" class=\"data row5 col1\" >52.288934</td>\n",
       "      <td id=\"T_9b730_row5_col2\" class=\"data row5 col2\" >61.168083</td>\n",
       "      <td id=\"T_9b730_row5_col3\" class=\"data row5 col3\" >7.821003</td>\n",
       "      <td id=\"T_9b730_row5_col4\" class=\"data row5 col4\" >0.581331</td>\n",
       "    </tr>\n",
       "    <tr>\n",
       "      <th id=\"T_9b730_level0_row6\" class=\"row_heading level0 row6\" >Propriva</th>\n",
       "      <td id=\"T_9b730_row6_col0\" class=\"data row6 col0\" >52.320930</td>\n",
       "      <td id=\"T_9b730_row6_col1\" class=\"data row6 col1\" >50.446266</td>\n",
       "      <td id=\"T_9b730_row6_col2\" class=\"data row6 col2\" >43.852013</td>\n",
       "      <td id=\"T_9b730_row6_col3\" class=\"data row6 col3\" >6.622085</td>\n",
       "      <td id=\"T_9b730_row6_col4\" class=\"data row6 col4\" >0.544332</td>\n",
       "    </tr>\n",
       "    <tr>\n",
       "      <th id=\"T_9b730_level0_row7\" class=\"row_heading level0 row7\" >Ramicane</th>\n",
       "      <td id=\"T_9b730_row7_col0\" class=\"data row7 col0\" >40.216745</td>\n",
       "      <td id=\"T_9b730_row7_col1\" class=\"data row7 col1\" >40.673236</td>\n",
       "      <td id=\"T_9b730_row7_col2\" class=\"data row7 col2\" >23.486704</td>\n",
       "      <td id=\"T_9b730_row7_col3\" class=\"data row7 col3\" >4.846308</td>\n",
       "      <td id=\"T_9b730_row7_col4\" class=\"data row7 col4\" >0.320955</td>\n",
       "    </tr>\n",
       "    <tr>\n",
       "      <th id=\"T_9b730_level0_row8\" class=\"row_heading level0 row8\" >Stelasyn</th>\n",
       "      <td id=\"T_9b730_row8_col0\" class=\"data row8 col0\" >54.233149</td>\n",
       "      <td id=\"T_9b730_row8_col1\" class=\"data row8 col1\" >52.431737</td>\n",
       "      <td id=\"T_9b730_row8_col2\" class=\"data row8 col2\" >59.450562</td>\n",
       "      <td id=\"T_9b730_row8_col3\" class=\"data row8 col3\" >7.710419</td>\n",
       "      <td id=\"T_9b730_row8_col4\" class=\"data row8 col4\" >0.573111</td>\n",
       "    </tr>\n",
       "    <tr>\n",
       "      <th id=\"T_9b730_level0_row9\" class=\"row_heading level0 row9\" >Zoniferol</th>\n",
       "      <td id=\"T_9b730_row9_col0\" class=\"data row9 col0\" >53.236507</td>\n",
       "      <td id=\"T_9b730_row9_col1\" class=\"data row9 col1\" >51.818479</td>\n",
       "      <td id=\"T_9b730_row9_col2\" class=\"data row9 col2\" >48.533355</td>\n",
       "      <td id=\"T_9b730_row9_col3\" class=\"data row9 col3\" >6.966589</td>\n",
       "      <td id=\"T_9b730_row9_col4\" class=\"data row9 col4\" >0.516398</td>\n",
       "    </tr>\n",
       "  </tbody>\n",
       "</table>\n"
      ],
      "text/plain": [
       "<pandas.io.formats.style.Styler at 0x19df0ba88e0>"
      ]
     },
     "execution_count": 9,
     "metadata": {},
     "output_type": "execute_result"
    }
   ],
   "source": [
    "summary_statistics = pd.DataFrame({\n",
    "    \"Mean\":Mean,\n",
    "    \"Median\":Median,\n",
    "    \"Variance\":Variance,\n",
    "    \"STD\": std,\n",
    "    \"SEM\": sem\n",
    "})\n",
    "summary_statistics = summary_statistics.style.set_caption(\"Summary statistics table of the tumor volume for each drug regimen.\",)\n",
    "summary_statistics"
   ]
  },
  {
   "cell_type": "markdown",
   "id": "ca843fd8",
   "metadata": {},
   "source": [
    "## Generate a bar plot using both Pandas's DataFrame.plot() and Matplotlib's pyplot that shows the number of total mice for each treatment regimen throughout the course of the study."
   ]
  },
  {
   "cell_type": "code",
   "execution_count": 10,
   "id": "eee1c5c9",
   "metadata": {},
   "outputs": [
    {
     "data": {
      "image/png": "[encoded data removed]",
      "text/plain": [
       "<Figure size 640x480 with 1 Axes>"
      ]
     },
     "metadata": {},
     "output_type": "display_data"
    },
    {
     "name": "stdout",
     "output_type": "stream",
     "text": [
      "--------------------------------------------------------------------------------\n"
     ]
    },
    {
     "data": {
      "image/png": "[encoded data removed]",
      "text/plain": [
       "<Figure size 640x480 with 1 Axes>"
      ]
     },
     "metadata": {},
     "output_type": "display_data"
    }
   ],
   "source": [
    "# Using Pandas\n",
    "total_mice = df.groupby(\"Drug Regimen\").size()\n",
    "total_mice.plot.barh(color=\"red\")\n",
    "pt.title(\"Number of total mice for each treatment regimen throughout the course of the study - Pandas\")\n",
    "pt.ylabel(\"Drug Regimen\")\n",
    "pt.xlabel(\"Number of Mice\")\n",
    "pt.show()\n",
    "\n",
    "print(\"-\"*80)\n",
    "\n",
    "# using Matplotlib\n",
    "\n",
    "# First get the regimens and their counts...\n",
    "key, value = np.unique(df[\"Drug Regimen\"], return_counts = True)\n",
    "count_regimens  = dict(zip(key,value))\n",
    "pt.title(\"Number of total mice for each treatment regimen throughout the course of the study - Matplotlib\")\n",
    "pt.ylabel(\"Drug Regimen\")\n",
    "pt.xlabel(\"Number of Mice\")\n",
    "pt.barh(key, value, color='red')\n",
    "pt.show()"
   ]
  },
  {
   "cell_type": "code",
   "execution_count": null,
   "id": "b8427ef7",
   "metadata": {},
   "outputs": [],
   "source": []
  },
  {
   "cell_type": "markdown",
   "id": "453edb46",
   "metadata": {},
   "source": [
    "## Generate a pie plot using both Pandas's DataFrame.plot() and Matplotlib's pyplot that shows the distribution of female or male mice in the study."
   ]
  },
  {
   "cell_type": "code",
   "execution_count": 11,
   "id": "9714dd6d",
   "metadata": {},
   "outputs": [
    {
     "data": {
      "image/png": "[encoded data removed]",
      "text/plain": [
       "<Figure size 640x480 with 1 Axes>"
      ]
     },
     "metadata": {},
     "output_type": "display_data"
    },
    {
     "name": "stdout",
     "output_type": "stream",
     "text": [
      "--------------------------------------------------------------------------------\n"
     ]
    },
    {
     "data": {
      "image/png": "[encoded data removed]",
      "text/plain": [
       "<Figure size 640x480 with 1 Axes>"
      ]
     },
     "metadata": {},
     "output_type": "display_data"
    }
   ],
   "source": [
    "# Using pandas\n",
    "\n",
    "fig = pt.figure()\n",
    "\n",
    "\n",
    "gender_data = df.groupby(\"Sex\").size()\n",
    "gender_data.name = \"\"\n",
    "colors = [\"Red\", \"Blue\"]\n",
    "pt.title(\"Distribution of Male or Female in this study - Pandas\")\n",
    "gender_data.plot.pie(autopct = \"%.2f\", colors = colors)\n",
    "pt.show()\n",
    "\n",
    "print(\"-\"*80)\n",
    "# Using Matplotlib\n",
    "\n",
    "key, value = np.unique(df[\"Sex\"], return_counts = True)\n",
    "colors = [\"Red\", \"Blue\"]\n",
    "labels = [\"Female\", \"Male\"]\n",
    "pt.title(\"Distribution of Male or Female in this study - Pandas\")\n",
    "pt.pie(value, colors=colors, labels=labels, autopct = \"%.2f\")\n",
    "pt.show()"
   ]
  },
  {
   "cell_type": "code",
   "execution_count": null,
   "id": "5447b87d",
   "metadata": {},
   "outputs": [],
   "source": []
  }
 ],
 "metadata": {
  "kernelspec": {
   "display_name": "Python 3 (ipykernel)",
   "language": "python",
   "name": "python3"
  },
  "language_info": {
   "codemirror_mode": {
    "name": "ipython",
    "version": 3
   },
   "file_extension": ".py",
   "mimetype": "text/x-python",
   "name": "python",
   "nbconvert_exporter": "python",
   "pygments_lexer": "ipython3",
   "version": "3.9.13"
  }
 },
 "nbformat": 4,
 "nbformat_minor": 5
}
